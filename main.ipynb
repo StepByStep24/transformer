{
  "nbformat": 4,
  "nbformat_minor": 0,
  "metadata": {
    "colab": {
      "provenance": [],
      "authorship_tag": "ABX9TyNSYfGJLQssgtGAKCuiYrMP",
      "include_colab_link": true
    },
    "kernelspec": {
      "name": "python3",
      "display_name": "Python 3"
    },
    "language_info": {
      "name": "python"
    }
  },
  "cells": [
    {
      "cell_type": "markdown",
      "metadata": {
        "id": "view-in-github",
        "colab_type": "text"
      },
      "source": [
        "<a href=\"https://colab.research.google.com/github/StepByStep24/transformer/blob/main/main.ipynb\" target=\"_parent\"><img src=\"https://colab.research.google.com/assets/colab-badge.svg\" alt=\"Open In Colab\"/></a>"
      ]
    },
    {
      "cell_type": "code",
      "execution_count": null,
      "metadata": {
        "id": "YxwNftWc-xSF"
      },
      "outputs": [],
      "source": [
        "# Download data\n",
        "!wget https://raw.githubusercontent.com/karpathy/char-rnn/master/data/tinyshakespeare/input.txt\n",
        "# !wget https://github.com/duyet/truyenkieu-word2vec/blob/master/truyen_kieu_data.txt"
      ]
    },
    {
      "cell_type": "code",
      "source": [
        "with open('input.txt', 'r', encoding='utf-8') as f:\n",
        "  input_text = f.read()\n",
        "print(\"length of dataset in characters: \", len(input_text))\n",
        "print(input_text[:1000])"
      ],
      "metadata": {
        "collapsed": true,
        "id": "uI-BshzlDIqj"
      },
      "execution_count": null,
      "outputs": []
    },
    {
      "cell_type": "markdown",
      "source": [],
      "metadata": {
        "id": "ii3PgjERCsTb"
      }
    },
    {
      "cell_type": "code",
      "source": [
        "chars = sorted(list(set(input_text)))\n",
        "vocab_size = len(chars)\n",
        "print(''.join(chars))\n",
        "print(vocab_size)"
      ],
      "metadata": {
        "id": "HirQi_PgE-1F",
        "outputId": "4d5b8fbb-8d77-40ba-ded4-9f77f04dbe39",
        "colab": {
          "base_uri": "https://localhost:8080/"
        }
      },
      "execution_count": 26,
      "outputs": [
        {
          "output_type": "stream",
          "name": "stdout",
          "text": [
            "\n",
            " !$&',-.3:;?ABCDEFGHIJKLMNOPQRSTUVWXYZabcdefghijklmnopqrstuvwxyz\n",
            "65\n"
          ]
        }
      ]
    },
    {
      "cell_type": "code",
      "source": [
        "stoi_map = {ch: i for i, ch in enumerate(chars)}\n",
        "itos_map = {i:ch for i, ch in enumerate(chars)}\n",
        "# print(stoi_map)\n",
        "def encode(input_chars):\n",
        "  output_intergers = [stoi_map[c] for c in input_chars]\n",
        "  return output_intergers\n",
        "# print(encode(\"Hello There. My name is Mike.\"))\n",
        "def decode(input_intergers):\n",
        "  output_chars = [itos_map[i] for i in input_intergers]\n",
        "  return output_chars\n",
        "# print(decode(encode(\"Hello There. My name is Mike.\")))"
      ],
      "metadata": {
        "id": "tyjldf6xGXfC",
        "outputId": "b73b4b32-05ce-4556-d7ad-3c0870b72bef",
        "colab": {
          "base_uri": "https://localhost:8080/"
        }
      },
      "execution_count": 34,
      "outputs": [
        {
          "output_type": "stream",
          "name": "stdout",
          "text": [
            "[20, 43, 50, 50, 53, 1, 32, 46, 43, 56, 43, 8, 1, 25, 63, 1, 52, 39, 51, 43, 1, 47, 57, 1, 25, 47, 49, 43, 8]\n",
            "['H', 'e', 'l', 'l', 'o', ' ', 'T', 'h', 'e', 'r', 'e', '.', ' ', 'M', 'y', ' ', 'n', 'a', 'm', 'e', ' ', 'i', 's', ' ', 'M', 'i', 'k', 'e', '.']\n"
          ]
        }
      ]
    },
    {
      "cell_type": "code",
      "source": [],
      "metadata": {
        "id": "7vd-WzpeGeoS"
      },
      "execution_count": null,
      "outputs": []
    }
  ]
}